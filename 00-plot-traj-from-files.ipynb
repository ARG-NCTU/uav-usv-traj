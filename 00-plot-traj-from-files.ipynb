{
 "cells": [
  {
   "cell_type": "markdown",
   "id": "9175fbe4",
   "metadata": {},
   "source": [
    "# Handling trajectory data files (reading & writing)\n",
    "\n",
    "<img align=\"right\" src=\"https://anitagraser.github.io/movingpandas/assets/img/movingpandas.png\">\n",
    "\n",
    "[![Binder](https://mybinder.org/badge_logo.svg)](https://mybinder.org/v2/gh/anitagraser/movingpandas/master?filepath=tutorials/2-reading-data-from-files.ipynb)\n",
    "\n",
    "**<p style=\"color:#e31883\">This notebook demonstrates the current development version of MovingPandas.</p>**\n",
    "\n",
    "For tutorials using the latest release visit https://github.com/anitagraser/movingpandas-examples.\n"
   ]
  },
  {
   "cell_type": "code",
   "execution_count": 1,
   "id": "12edc7bb",
   "metadata": {},
   "outputs": [
    {
     "ename": "ModuleNotFoundError",
     "evalue": "No module named 'movingpandas'",
     "output_type": "error",
     "traceback": [
      "\u001b[0;31m---------------------------------------------------------------------------\u001b[0m",
      "\u001b[0;31mModuleNotFoundError\u001b[0m                       Traceback (most recent call last)",
      "Input \u001b[0;32mIn [1]\u001b[0m, in \u001b[0;36m<cell line: 6>\u001b[0;34m()\u001b[0m\n\u001b[1;32m      4\u001b[0m \u001b[38;5;28;01mimport\u001b[39;00m \u001b[38;5;21;01msys\u001b[39;00m\n\u001b[1;32m      5\u001b[0m sys\u001b[38;5;241m.\u001b[39mpath\u001b[38;5;241m.\u001b[39mappend(\u001b[38;5;124m\"\u001b[39m\u001b[38;5;124m..\u001b[39m\u001b[38;5;124m\"\u001b[39m)\n\u001b[0;32m----> 6\u001b[0m \u001b[38;5;28;01mimport\u001b[39;00m \u001b[38;5;21;01mmovingpandas\u001b[39;00m \u001b[38;5;28;01mas\u001b[39;00m \u001b[38;5;21;01mmpd\u001b[39;00m\n\u001b[1;32m      7\u001b[0m mpd\u001b[38;5;241m.\u001b[39mshow_versions()\n\u001b[1;32m      9\u001b[0m \u001b[38;5;28;01mimport\u001b[39;00m \u001b[38;5;21;01mwarnings\u001b[39;00m\n",
      "\u001b[0;31mModuleNotFoundError\u001b[0m: No module named 'movingpandas'"
     ]
    }
   ],
   "source": [
    "import pandas as pd\n",
    "from geopandas import GeoDataFrame, read_file\n",
    "\n",
    "import sys\n",
    "sys.path.append(\"..\")\n",
    "import movingpandas as mpd\n",
    "mpd.show_versions()\n",
    "\n",
    "import warnings\n",
    "warnings.simplefilter(\"ignore\")"
   ]
  },
  {
   "cell_type": "code",
   "execution_count": 2,
   "id": "4db26b0b-f236-45ec-81fb-62cd92a2f2fb",
   "metadata": {},
   "outputs": [],
   "source": [
    "hvplot_defaults = {'tiles':'EsriImagery', 'frame_height':400, 'frame_width':700, 'cmap':'Viridis', 'colorbar':True}"
   ]
  },
  {
   "cell_type": "markdown",
   "id": "57746585",
   "metadata": {},
   "source": [
    "## Reading Geopackages"
   ]
  },
  {
   "cell_type": "markdown",
   "id": "7580e951",
   "metadata": {},
   "source": [
    "### with DatetimeIndex"
   ]
  },
  {
   "cell_type": "code",
   "execution_count": 3,
   "id": "97da2889",
   "metadata": {},
   "outputs": [
    {
     "name": "stdout",
     "output_type": "stream",
     "text": [
      "TrajectoryCollection with 5 trajectories\n",
      "CPU times: user 1.43 s, sys: 21.5 ms, total: 1.46 s\n",
      "Wall time: 1.57 s\n"
     ]
    }
   ],
   "source": [
    "%%time\n",
    "gdf = read_file('data/demodata_geolife.gpkg')\n",
    "gdf['t'] = pd.to_datetime(gdf['t'])\n",
    "gdf = gdf.set_index('t').tz_localize(None)\n",
    "traj_collection = mpd.TrajectoryCollection(gdf, 'trajectory_id')\n",
    "print(traj_collection)"
   ]
  },
  {
   "cell_type": "markdown",
   "id": "c59b6252",
   "metadata": {},
   "source": [
    "### without DatetimeIndex"
   ]
  },
  {
   "cell_type": "code",
   "execution_count": 4,
   "id": "a914c897",
   "metadata": {},
   "outputs": [
    {
     "name": "stdout",
     "output_type": "stream",
     "text": [
      "TrajectoryCollection with 5 trajectories\n",
      "CPU times: user 1.45 s, sys: 2.47 ms, total: 1.45 s\n",
      "Wall time: 1.45 s\n"
     ]
    }
   ],
   "source": [
    "%%time\n",
    "gdf = read_file('data/demodata_geolife.gpkg')\n",
    "traj_collection = mpd.TrajectoryCollection(gdf, 'trajectory_id', t='t')\n",
    "print(traj_collection)"
   ]
  },
  {
   "cell_type": "code",
   "execution_count": 5,
   "id": "389b5195",
   "metadata": {},
   "outputs": [
    {
     "name": "stdout",
     "output_type": "stream",
     "text": [
      "TrajectoryCollection with 77 trajectories\n",
      "CPU times: user 10.4 s, sys: 62.4 ms, total: 10.5 s\n",
      "Wall time: 10.5 s\n"
     ]
    }
   ],
   "source": [
    "%%time\n",
    "gdf = read_file('data/demodata_ais.gpkg')\n",
    "gdf['t'] = pd.to_datetime(gdf['Timestamp'], format='%d/%m/%Y %H:%M:%S')\n",
    "gdf = gdf[gdf.SOG>0]\n",
    "traj_collection = mpd.TrajectoryCollection(gdf, 'MMSI', min_length=100, t='t')\n",
    "print(traj_collection)"
   ]
  },
  {
   "cell_type": "markdown",
   "id": "8a4ed663",
   "metadata": {},
   "source": [
    "## Reading CSVs"
   ]
  },
  {
   "cell_type": "code",
   "execution_count": 6,
   "id": "c4585756",
   "metadata": {},
   "outputs": [],
   "source": [
    "hvplot_defaults = {'tiles':'EsriImagery', 'frame_height':400, 'frame_width':700, 'cmap':'Viridis', 'colorbar':True}"
   ]
  },
  {
   "cell_type": "code",
   "execution_count": 17,
   "id": "6bb565db",
   "metadata": {
    "scrolled": false
   },
   "outputs": [
    {
     "name": "stdout",
     "output_type": "stream",
     "text": [
      "CPU times: user 140 ms, sys: 3.8 ms, total: 143 ms\n",
      "Wall time: 143 ms\n"
     ]
    },
    {
     "data": {},
     "metadata": {},
     "output_type": "display_data"
    },
    {
     "data": {
      "application/vnd.holoviews_exec.v0+json": "",
      "text/html": [
       "<div id='1754'>\n",
       "  <div class=\"bk-root\" id=\"3dad5c51-6ecf-4bef-b31b-a70c8a3394c7\" data-root-id=\"1754\"></div>\n",
       "</div>\n",
       "<script type=\"application/javascript\">(function(root) {\n",
       "  function embed_document(root) {\n",
       "    var docs_json = {\"dbfa1818-f531-4123-acf4-2dc710ce13b8\":{\"defs\":[{\"extends\":null,\"module\":null,\"name\":\"ReactiveHTML1\",\"overrides\":[],\"properties\":[]},{\"extends\":null,\"module\":null,\"name\":\"FlexBox1\",\"overrides\":[],\"properties\":[{\"default\":\"flex-start\",\"kind\":null,\"name\":\"align_content\"},{\"default\":\"flex-start\",\"kind\":null,\"name\":\"align_items\"},{\"default\":\"row\",\"kind\":null,\"name\":\"flex_direction\"},{\"default\":\"wrap\",\"kind\":null,\"name\":\"flex_wrap\"},{\"default\":\"flex-start\",\"kind\":null,\"name\":\"justify_content\"}]},{\"extends\":null,\"module\":null,\"name\":\"GridStack1\",\"overrides\":[],\"properties\":[{\"default\":\"warn\",\"kind\":null,\"name\":\"mode\"},{\"default\":null,\"kind\":null,\"name\":\"ncols\"},{\"default\":null,\"kind\":null,\"name\":\"nrows\"},{\"default\":true,\"kind\":null,\"name\":\"allow_resize\"},{\"default\":true,\"kind\":null,\"name\":\"allow_drag\"},{\"default\":[],\"kind\":null,\"name\":\"state\"}]},{\"extends\":null,\"module\":null,\"name\":\"click1\",\"overrides\":[],\"properties\":[{\"default\":\"\",\"kind\":null,\"name\":\"terminal_output\"},{\"default\":\"\",\"kind\":null,\"name\":\"debug_name\"},{\"default\":0,\"kind\":null,\"name\":\"clears\"}]},{\"extends\":null,\"module\":null,\"name\":\"NotificationAreaBase1\",\"overrides\":[],\"properties\":[{\"default\":\"bottom-right\",\"kind\":null,\"name\":\"position\"},{\"default\":0,\"kind\":null,\"name\":\"_clear\"}]},{\"extends\":null,\"module\":null,\"name\":\"NotificationArea1\",\"overrides\":[],\"properties\":[{\"default\":[],\"kind\":null,\"name\":\"notifications\"},{\"default\":\"bottom-right\",\"kind\":null,\"name\":\"position\"},{\"default\":0,\"kind\":null,\"name\":\"_clear\"},{\"default\":[{\"background\":\"#ffc107\",\"icon\":{\"className\":\"fas fa-exclamation-triangle\",\"color\":\"white\",\"tagName\":\"i\"},\"type\":\"warning\"},{\"background\":\"#007bff\",\"icon\":{\"className\":\"fas fa-info-circle\",\"color\":\"white\",\"tagName\":\"i\"},\"type\":\"info\"}],\"kind\":null,\"name\":\"types\"}]},{\"extends\":null,\"module\":null,\"name\":\"Notification\",\"overrides\":[],\"properties\":[{\"default\":null,\"kind\":null,\"name\":\"background\"},{\"default\":3000,\"kind\":null,\"name\":\"duration\"},{\"default\":null,\"kind\":null,\"name\":\"icon\"},{\"default\":\"\",\"kind\":null,\"name\":\"message\"},{\"default\":null,\"kind\":null,\"name\":\"notification_type\"},{\"default\":false,\"kind\":null,\"name\":\"_destroyed\"}]},{\"extends\":null,\"module\":null,\"name\":\"TemplateActions1\",\"overrides\":[],\"properties\":[{\"default\":0,\"kind\":null,\"name\":\"open_modal\"},{\"default\":0,\"kind\":null,\"name\":\"close_modal\"}]},{\"extends\":null,\"module\":null,\"name\":\"MaterialTemplateActions1\",\"overrides\":[],\"properties\":[{\"default\":0,\"kind\":null,\"name\":\"open_modal\"},{\"default\":0,\"kind\":null,\"name\":\"close_modal\"}]}],\"roots\":{\"references\":[{\"attributes\":{},\"id\":\"1805\",\"type\":\"AllLabels\"},{\"attributes\":{\"below\":[{\"id\":\"1776\"}],\"center\":[{\"id\":\"1779\"},{\"id\":\"1783\"}],\"frame_height\":400,\"frame_width\":700,\"height\":null,\"left\":[{\"id\":\"1780\"}],\"margin\":[5,5,5,5],\"match_aspect\":true,\"min_border_bottom\":10,\"min_border_left\":10,\"min_border_right\":10,\"min_border_top\":10,\"renderers\":[{\"id\":\"1828\"},{\"id\":\"1836\"}],\"sizing_mode\":\"fixed\",\"title\":{\"id\":\"1768\"},\"toolbar\":{\"id\":\"1790\"},\"width\":null,\"x_range\":{\"id\":\"1760\"},\"x_scale\":{\"id\":\"1772\"},\"y_range\":{\"id\":\"1761\"},\"y_scale\":{\"id\":\"1774\"}},\"id\":\"1767\",\"subtype\":\"Figure\",\"type\":\"Plot\"},{\"attributes\":{\"dimension\":\"lon\"},\"id\":\"1800\",\"type\":\"MercatorTickFormatter\"},{\"attributes\":{\"margin\":[5,5,5,5],\"name\":\"HSpacer22801\",\"sizing_mode\":\"stretch_width\"},\"id\":\"1847\",\"type\":\"Spacer\"},{\"attributes\":{\"line_alpha\":{\"value\":0.2},\"line_color\":{\"value\":\"#30a2da\"},\"line_width\":{\"value\":3},\"xs\":{\"field\":\"xs\"},\"ys\":{\"field\":\"ys\"}},\"id\":\"1835\",\"type\":\"MultiLine\"},{\"attributes\":{\"line_alpha\":{\"value\":1.0},\"line_cap\":{\"value\":\"butt\"},\"line_color\":{\"value\":\"#30a2da\"},\"line_dash\":{\"value\":[]},\"line_dash_offset\":{\"value\":0},\"line_join\":{\"value\":\"bevel\"},\"line_width\":{\"value\":3},\"xs\":{\"field\":\"xs\"},\"ys\":{\"field\":\"ys\"}},\"id\":\"1838\",\"type\":\"MultiLine\"},{\"attributes\":{\"active_scroll\":{\"id\":\"1786\"},\"tools\":[{\"id\":\"1764\"},{\"id\":\"1784\"},{\"id\":\"1785\"},{\"id\":\"1786\"},{\"id\":\"1787\"},{\"id\":\"1788\"}]},\"id\":\"1790\",\"type\":\"Toolbar\"},{\"attributes\":{\"line_color\":{\"value\":\"#30a2da\"},\"line_width\":{\"value\":3},\"xs\":{\"field\":\"xs\"},\"ys\":{\"field\":\"ys\"}},\"id\":\"1833\",\"type\":\"MultiLine\"},{\"attributes\":{},\"id\":\"1785\",\"type\":\"PanTool\"},{\"attributes\":{},\"id\":\"1812\",\"type\":\"AllLabels\"},{\"attributes\":{\"coordinates\":null,\"data_source\":{\"id\":\"1830\"},\"glyph\":{\"id\":\"1833\"},\"group\":null,\"hover_glyph\":null,\"muted_glyph\":{\"id\":\"1835\"},\"nonselection_glyph\":{\"id\":\"1834\"},\"selection_glyph\":{\"id\":\"1838\"},\"view\":{\"id\":\"1837\"}},\"id\":\"1836\",\"type\":\"GlyphRenderer\"},{\"attributes\":{},\"id\":\"1772\",\"type\":\"LinearScale\"},{\"attributes\":{\"axis_label\":\"y\",\"coordinates\":null,\"formatter\":{\"id\":\"1802\"},\"group\":null,\"major_label_policy\":{\"id\":\"1812\"},\"ticker\":{\"id\":\"1801\"}},\"id\":\"1780\",\"type\":\"LinearAxis\"},{\"attributes\":{\"coordinates\":null,\"group\":null,\"level\":\"glyph\",\"tile_source\":{\"id\":\"1825\"}},\"id\":\"1828\",\"type\":\"TileRenderer\"},{\"attributes\":{\"dimension\":\"lat\"},\"id\":\"1802\",\"type\":\"MercatorTickFormatter\"},{\"attributes\":{\"data\":{\"xs\":[{\"__ndarray__\":\"cOVp/wyDaUH7trL4DINpQQ==\",\"dtype\":\"float64\",\"order\":\"little\",\"shape\":[2]},{\"__ndarray__\":\"+7ay+AyDaUGps631DINpQQ==\",\"dtype\":\"float64\",\"order\":\"little\",\"shape\":[2]},{\"__ndarray__\":\"qbOt9QyDaUGjHgfzDINpQQ==\",\"dtype\":\"float64\",\"order\":\"little\",\"shape\":[2]},{\"__ndarray__\":\"ox4H8wyDaUGoJu7zDINpQQ==\",\"dtype\":\"float64\",\"order\":\"little\",\"shape\":[2]},{\"__ndarray__\":\"qCbu8wyDaUGfVxf5DINpQQ==\",\"dtype\":\"float64\",\"order\":\"little\",\"shape\":[2]},{\"__ndarray__\":\"n1cX+QyDaUGrwEv/DINpQQ==\",\"dtype\":\"float64\",\"order\":\"little\",\"shape\":[2]},{\"__ndarray__\":\"q8BL/wyDaUHy9GAJDYNpQQ==\",\"dtype\":\"float64\",\"order\":\"little\",\"shape\":[2]},{\"__ndarray__\":\"8vRgCQ2DaUGmfzEVDYNpQQ==\",\"dtype\":\"float64\",\"order\":\"little\",\"shape\":[2]},{\"__ndarray__\":\"pn8xFQ2DaUF+jjAlDYNpQQ==\",\"dtype\":\"float64\",\"order\":\"little\",\"shape\":[2]},{\"__ndarray__\":\"fo4wJQ2DaUGiNGA5DYNpQQ==\",\"dtype\":\"float64\",\"order\":\"little\",\"shape\":[2]},{\"__ndarray__\":\"ojRgOQ2DaUGgYc1MDYNpQQ==\",\"dtype\":\"float64\",\"order\":\"little\",\"shape\":[2]},{\"__ndarray__\":\"oGHNTA2DaUHrKsplDYNpQQ==\",\"dtype\":\"float64\",\"order\":\"little\",\"shape\":[2]},{\"__ndarray__\":\"6yrKZQ2DaUH+Mx2ADYNpQQ==\",\"dtype\":\"float64\",\"order\":\"little\",\"shape\":[2]},{\"__ndarray__\":\"/jMdgA2DaUEPk4qXDYNpQQ==\",\"dtype\":\"float64\",\"order\":\"little\",\"shape\":[2]},{\"__ndarray__\":\"D5OKlw2DaUHqzFmxDYNpQQ==\",\"dtype\":\"float64\",\"order\":\"little\",\"shape\":[2]},{\"__ndarray__\":\"6sxZsQ2DaUEdDdbKDYNpQQ==\",\"dtype\":\"float64\",\"order\":\"little\",\"shape\":[2]},{\"__ndarray__\":\"HQ3Wyg2DaUH+yRvgDYNpQQ==\",\"dtype\":\"float64\",\"order\":\"little\",\"shape\":[2]},{\"__ndarray__\":\"/skb4A2DaUFRJrr3DYNpQQ==\",\"dtype\":\"float64\",\"order\":\"little\",\"shape\":[2]},{\"__ndarray__\":\"USa69w2DaUGsOXsNDoNpQQ==\",\"dtype\":\"float64\",\"order\":\"little\",\"shape\":[2]},{\"__ndarray__\":\"rDl7DQ6DaUGglGMhDoNpQQ==\",\"dtype\":\"float64\",\"order\":\"little\",\"shape\":[2]},{\"__ndarray__\":\"oJRjIQ6DaUFrM48wDoNpQQ==\",\"dtype\":\"float64\",\"order\":\"little\",\"shape\":[2]},{\"__ndarray__\":\"azOPMA6DaUEwXX09DoNpQQ==\",\"dtype\":\"float64\",\"order\":\"little\",\"shape\":[2]},{\"__ndarray__\":\"MF19PQ6DaUFxY41HDoNpQQ==\",\"dtype\":\"float64\",\"order\":\"little\",\"shape\":[2]},{\"__ndarray__\":\"cWONRw6DaUEDdt9LDoNpQQ==\",\"dtype\":\"float64\",\"order\":\"little\",\"shape\":[2]},{\"__ndarray__\":\"A3bfSw6DaUEjFEdMDoNpQQ==\",\"dtype\":\"float64\",\"order\":\"little\",\"shape\":[2]},{\"__ndarray__\":\"IxRHTA6DaUEW1EhRDoNpQQ==\",\"dtype\":\"float64\",\"order\":\"little\",\"shape\":[2]},{\"__ndarray__\":\"FtRIUQ6DaUElt4RXDoNpQQ==\",\"dtype\":\"float64\",\"order\":\"little\",\"shape\":[2]},{\"__ndarray__\":\"JbeEVw6DaUHaqxNjDoNpQQ==\",\"dtype\":\"float64\",\"order\":\"little\",\"shape\":[2]},{\"__ndarray__\":\"2qsTYw6DaUG35iVxDoNpQQ==\",\"dtype\":\"float64\",\"order\":\"little\",\"shape\":[2]},{\"__ndarray__\":\"t+YlcQ6DaUFuW9mCDoNpQQ==\",\"dtype\":\"float64\",\"order\":\"little\",\"shape\":[2]},{\"__ndarray__\":\"blvZgg6DaUEctuaTDoNpQQ==\",\"dtype\":\"float64\",\"order\":\"little\",\"shape\":[2]},{\"__ndarray__\":\"HLbmkw6DaUGcs46oDoNpQQ==\",\"dtype\":\"float64\",\"order\":\"little\",\"shape\":[2]},{\"__ndarray__\":\"nLOOqA6DaUER7g+/DoNpQQ==\",\"dtype\":\"float64\",\"order\":\"little\",\"shape\":[2]},{\"__ndarray__\":\"Ee4Pvw6DaUH3dNbZDoNpQQ==\",\"dtype\":\"float64\",\"order\":\"little\",\"shape\":[2]},{\"__ndarray__\":\"93TW2Q6DaUEDZqnzDoNpQQ==\",\"dtype\":\"float64\",\"order\":\"little\",\"shape\":[2]},{\"__ndarray__\":\"A2ap8w6DaUH/KTEND4NpQQ==\",\"dtype\":\"float64\",\"order\":\"little\",\"shape\":[2]},{\"__ndarray__\":\"/ykxDQ+DaUG7dyYnD4NpQQ==\",\"dtype\":\"float64\",\"order\":\"little\",\"shape\":[2]},{\"__ndarray__\":\"u3cmJw+DaUHrJCxBD4NpQQ==\",\"dtype\":\"float64\",\"order\":\"little\",\"shape\":[2]},{\"__ndarray__\":\"6yQsQQ+DaUGmbpBaD4NpQQ==\",\"dtype\":\"float64\",\"order\":\"little\",\"shape\":[2]},{\"__ndarray__\":\"pm6QWg+DaUFT9J1yD4NpQQ==\",\"dtype\":\"float64\",\"order\":\"little\",\"shape\":[2]},{\"__ndarray__\":\"U/Sdcg+DaUEwhvOID4NpQQ==\",\"dtype\":\"float64\",\"order\":\"little\",\"shape\":[2]},{\"__ndarray__\":\"MIbziA+DaUEPzZCdD4NpQQ==\",\"dtype\":\"float64\",\"order\":\"little\",\"shape\":[2]},{\"__ndarray__\":\"D82QnQ+DaUHt9sewD4NpQQ==\",\"dtype\":\"float64\",\"order\":\"little\",\"shape\":[2]},{\"__ndarray__\":\"7fbHsA+DaUELMiG/D4NpQQ==\",\"dtype\":\"float64\",\"order\":\"little\",\"shape\":[2]},{\"__ndarray__\":\"CzIhvw+DaUH+rpHJD4NpQQ==\",\"dtype\":\"float64\",\"order\":\"little\",\"shape\":[2]},{\"__ndarray__\":\"/q6RyQ+DaUGDPkrSD4NpQQ==\",\"dtype\":\"float64\",\"order\":\"little\",\"shape\":[2]},{\"__ndarray__\":\"gz5K0g+DaUGXFCbXD4NpQQ==\",\"dtype\":\"float64\",\"order\":\"little\",\"shape\":[2]},{\"__ndarray__\":\"lxQm1w+DaUF5itHYD4NpQQ==\",\"dtype\":\"float64\",\"order\":\"little\",\"shape\":[2]},{\"__ndarray__\":\"eYrR2A+DaUEOw7HXD4NpQQ==\",\"dtype\":\"float64\",\"order\":\"little\",\"shape\":[2]},{\"__ndarray__\":\"DsOx1w+DaUH0/kjSD4NpQQ==\",\"dtype\":\"float64\",\"order\":\"little\",\"shape\":[2]},{\"__ndarray__\":\"9P5I0g+DaUEyLZjJD4NpQQ==\",\"dtype\":\"float64\",\"order\":\"little\",\"shape\":[2]},{\"__ndarray__\":\"Mi2YyQ+DaUGiXxm9D4NpQQ==\",\"dtype\":\"float64\",\"order\":\"little\",\"shape\":[2]},{\"__ndarray__\":\"ol8ZvQ+DaUFyI9K0D4NpQQ==\",\"dtype\":\"float64\",\"order\":\"little\",\"shape\":[2]},{\"__ndarray__\":\"ciPStA+DaUGhCeKuD4NpQQ==\",\"dtype\":\"float64\",\"order\":\"little\",\"shape\":[2]},{\"__ndarray__\":\"oQnirg+DaUG7g6CqD4NpQQ==\",\"dtype\":\"float64\",\"order\":\"little\",\"shape\":[2]},{\"__ndarray__\":\"u4Ogqg+DaUFUEg+nD4NpQQ==\",\"dtype\":\"float64\",\"order\":\"little\",\"shape\":[2]},{\"__ndarray__\":\"VBIPpw+DaUEJ+VqiD4NpQQ==\",\"dtype\":\"float64\",\"order\":\"little\",\"shape\":[2]},{\"__ndarray__\":\"Cflaog+DaUGSHTudD4NpQQ==\",\"dtype\":\"float64\",\"order\":\"little\",\"shape\":[2]},{\"__ndarray__\":\"kh07nQ+DaUHWm2WXD4NpQQ==\",\"dtype\":\"float64\",\"order\":\"little\",\"shape\":[2]},{\"__ndarray__\":\"1ptllw+DaUGA+teQD4NpQQ==\",\"dtype\":\"float64\",\"order\":\"little\",\"shape\":[2]},{\"__ndarray__\":\"gPrXkA+DaUHAMQOQD4NpQQ==\",\"dtype\":\"float64\",\"order\":\"little\",\"shape\":[2]},{\"__ndarray__\":\"wDEDkA+DaUHUJfaWD4NpQQ==\",\"dtype\":\"float64\",\"order\":\"little\",\"shape\":[2]},{\"__ndarray__\":\"1CX2lg+DaUGh6L6hD4NpQQ==\",\"dtype\":\"float64\",\"order\":\"little\",\"shape\":[2]},{\"__ndarray__\":\"oei+oQ+DaUHcEYutD4NpQQ==\",\"dtype\":\"float64\",\"order\":\"little\",\"shape\":[2]},{\"__ndarray__\":\"3BGLrQ+DaUHffV66D4NpQQ==\",\"dtype\":\"float64\",\"order\":\"little\",\"shape\":[2]},{\"__ndarray__\":\"331eug+DaUEJhwbFD4NpQQ==\",\"dtype\":\"float64\",\"order\":\"little\",\"shape\":[2]},{\"__ndarray__\":\"CYcGxQ+DaUEvz0rPD4NpQQ==\",\"dtype\":\"float64\",\"order\":\"little\",\"shape\":[2]},{\"__ndarray__\":\"L89Kzw+DaUG9xu7UD4NpQQ==\",\"dtype\":\"float64\",\"order\":\"little\",\"shape\":[2]},{\"__ndarray__\":\"vcbu1A+DaUFXf5XbD4NpQQ==\",\"dtype\":\"float64\",\"order\":\"little\",\"shape\":[2]},{\"__ndarray__\":\"V3+V2w+DaUFXhc3gD4NpQQ==\",\"dtype\":\"float64\",\"order\":\"little\",\"shape\":[2]},{\"__ndarray__\":\"V4XN4A+DaUHGhSDiD4NpQQ==\",\"dtype\":\"float64\",\"order\":\"little\",\"shape\":[2]},{\"__ndarray__\":\"xoUg4g+DaUHbOC/pD4NpQQ==\",\"dtype\":\"float64\",\"order\":\"little\",\"shape\":[2]},{\"__ndarray__\":\"2zgv6Q+DaUFjR4rzD4NpQQ==\",\"dtype\":\"float64\",\"order\":\"little\",\"shape\":[2]},{\"__ndarray__\":\"Y0eK8w+DaUEdHJMBEINpQQ==\",\"dtype\":\"float64\",\"order\":\"little\",\"shape\":[2]},{\"__ndarray__\":\"HRyTARCDaUEl9MIQEINpQQ==\",\"dtype\":\"float64\",\"order\":\"little\",\"shape\":[2]},{\"__ndarray__\":\"JfTCEBCDaUFkcLEfEINpQQ==\",\"dtype\":\"float64\",\"order\":\"little\",\"shape\":[2]},{\"__ndarray__\":\"ZHCxHxCDaUGA+OIrEINpQQ==\",\"dtype\":\"float64\",\"order\":\"little\",\"shape\":[2]},{\"__ndarray__\":\"gPjiKxCDaUEm+s05EINpQQ==\",\"dtype\":\"float64\",\"order\":\"little\",\"shape\":[2]},{\"__ndarray__\":\"JvrNORCDaUE4oeVKEINpQQ==\",\"dtype\":\"float64\",\"order\":\"little\",\"shape\":[2]},{\"__ndarray__\":\"OKHlShCDaUGQ1KVcEINpQQ==\",\"dtype\":\"float64\",\"order\":\"little\",\"shape\":[2]},{\"__ndarray__\":\"kNSlXBCDaUHZSGdvEINpQQ==\",\"dtype\":\"float64\",\"order\":\"little\",\"shape\":[2]},{\"__ndarray__\":\"2UhnbxCDaUHO+b6BEINpQQ==\",\"dtype\":\"float64\",\"order\":\"little\",\"shape\":[2]},{\"__ndarray__\":\"zvm+gRCDaUGsOwuUEINpQQ==\",\"dtype\":\"float64\",\"order\":\"little\",\"shape\":[2]},{\"__ndarray__\":\"rDsLlBCDaUEHCP2lEINpQQ==\",\"dtype\":\"float64\",\"order\":\"little\",\"shape\":[2]},{\"__ndarray__\":\"Bwj9pRCDaUGq2bO0EINpQQ==\",\"dtype\":\"float64\",\"order\":\"little\",\"shape\":[2]},{\"__ndarray__\":\"qtmztBCDaUEwjcXCEINpQQ==\",\"dtype\":\"float64\",\"order\":\"little\",\"shape\":[2]},{\"__ndarray__\":\"MI3FwhCDaUGhO1bREINpQQ==\",\"dtype\":\"float64\",\"order\":\"little\",\"shape\":[2]},{\"__ndarray__\":\"oTtW0RCDaUHqAEvfEINpQQ==\",\"dtype\":\"float64\",\"order\":\"little\",\"shape\":[2]},{\"__ndarray__\":\"6gBL3xCDaUHPps/pEINpQQ==\",\"dtype\":\"float64\",\"order\":\"little\",\"shape\":[2]},{\"__ndarray__\":\"z6bP6RCDaUGQBI7xEINpQQ==\",\"dtype\":\"float64\",\"order\":\"little\",\"shape\":[2]},{\"__ndarray__\":\"kASO8RCDaUF/X4n2EINpQQ==\",\"dtype\":\"float64\",\"order\":\"little\",\"shape\":[2]},{\"__ndarray__\":\"f1+J9hCDaUG/Crz4EINpQQ==\",\"dtype\":\"float64\",\"order\":\"little\",\"shape\":[2]},{\"__ndarray__\":\"vwq8+BCDaUHh2mb3EINpQQ==\",\"dtype\":\"float64\",\"order\":\"little\",\"shape\":[2]},{\"__ndarray__\":\"4dpm9xCDaUFTsD/0EINpQQ==\",\"dtype\":\"float64\",\"order\":\"little\",\"shape\":[2]},{\"__ndarray__\":\"U7A/9BCDaUE77VX0EINpQQ==\",\"dtype\":\"float64\",\"order\":\"little\",\"shape\":[2]},{\"__ndarray__\":\"O+1V9BCDaUHoEL30EINpQQ==\",\"dtype\":\"float64\",\"order\":\"little\",\"shape\":[2]},{\"__ndarray__\":\"6BC99BCDaUHX1wvwEINpQQ==\",\"dtype\":\"float64\",\"order\":\"little\",\"shape\":[2]},{\"__ndarray__\":\"19cL8BCDaUH1f0DrEINpQQ==\",\"dtype\":\"float64\",\"order\":\"little\",\"shape\":[2]}],\"ys\":[{\"__ndarray__\":\"QqNdEiISREEWLzC5IRJEQQ==\",\"dtype\":\"float64\",\"order\":\"little\",\"shape\":[2]},{\"__ndarray__\":\"Fi8wuSESREGpX+Q9IRJEQQ==\",\"dtype\":\"float64\",\"order\":\"little\",\"shape\":[2]},{\"__ndarray__\":\"qV/kPSESREFQ8pvCIBJEQQ==\",\"dtype\":\"float64\",\"order\":\"little\",\"shape\":[2]},{\"__ndarray__\":\"UPKbwiASREGUUDZGIBJEQQ==\",\"dtype\":\"float64\",\"order\":\"little\",\"shape\":[2]},{\"__ndarray__\":\"lFA2RiASREEbhADNHxJEQQ==\",\"dtype\":\"float64\",\"order\":\"little\",\"shape\":[2]},{\"__ndarray__\":\"G4QAzR8SREExUftaHxJEQQ==\",\"dtype\":\"float64\",\"order\":\"little\",\"shape\":[2]},{\"__ndarray__\":\"MVH7Wh8SREHVT9fqHhJEQQ==\",\"dtype\":\"float64\",\"order\":\"little\",\"shape\":[2]},{\"__ndarray__\":\"1U/X6h4SREGwgRGJHhJEQQ==\",\"dtype\":\"float64\",\"order\":\"little\",\"shape\":[2]},{\"__ndarray__\":\"sIERiR4SREFe1L84HhJEQQ==\",\"dtype\":\"float64\",\"order\":\"little\",\"shape\":[2]},{\"__ndarray__\":\"XtS/OB4SREFESfD8HRJEQQ==\",\"dtype\":\"float64\",\"order\":\"little\",\"shape\":[2]},{\"__ndarray__\":\"REnw/B0SREHl2ALLHRJEQQ==\",\"dtype\":\"float64\",\"order\":\"little\",\"shape\":[2]},{\"__ndarray__\":\"5dgCyx0SREGTIh62HRJEQQ==\",\"dtype\":\"float64\",\"order\":\"little\",\"shape\":[2]},{\"__ndarray__\":\"kyIeth0SREGHdKGyHRJEQQ==\",\"dtype\":\"float64\",\"order\":\"little\",\"shape\":[2]},{\"__ndarray__\":\"h3Shsh0SREFdupG+HRJEQQ==\",\"dtype\":\"float64\",\"order\":\"little\",\"shape\":[2]},{\"__ndarray__\":\"XbqRvh0SREHElJrhHRJEQQ==\",\"dtype\":\"float64\",\"order\":\"little\",\"shape\":[2]},{\"__ndarray__\":\"xJSa4R0SREFYTZT9HRJEQQ==\",\"dtype\":\"float64\",\"order\":\"little\",\"shape\":[2]},{\"__ndarray__\":\"WE2U/R0SREG3pBgPHhJEQQ==\",\"dtype\":\"float64\",\"order\":\"little\",\"shape\":[2]},{\"__ndarray__\":\"t6QYDx4SREG95eg7HhJEQQ==\",\"dtype\":\"float64\",\"order\":\"little\",\"shape\":[2]},{\"__ndarray__\":\"veXoOx4SREGdvcCDHhJEQQ==\",\"dtype\":\"float64\",\"order\":\"little\",\"shape\":[2]},{\"__ndarray__\":\"nb3Agx4SREGs2/nWHhJEQQ==\",\"dtype\":\"float64\",\"order\":\"little\",\"shape\":[2]},{\"__ndarray__\":\"rNv51h4SREGt+4lDHxJEQQ==\",\"dtype\":\"float64\",\"order\":\"little\",\"shape\":[2]},{\"__ndarray__\":\"rfuJQx8SREFlOsrGHxJEQQ==\",\"dtype\":\"float64\",\"order\":\"little\",\"shape\":[2]},{\"__ndarray__\":\"ZTrKxh8SREGsP/1QIBJEQQ==\",\"dtype\":\"float64\",\"order\":\"little\",\"shape\":[2]},{\"__ndarray__\":\"rD/9UCASREHNiZDnIBJEQQ==\",\"dtype\":\"float64\",\"order\":\"little\",\"shape\":[2]},{\"__ndarray__\":\"zYmQ5yASREH579N9IRJEQQ==\",\"dtype\":\"float64\",\"order\":\"little\",\"shape\":[2]},{\"__ndarray__\":\"+e/TfSESREE0Ox4TIhJEQQ==\",\"dtype\":\"float64\",\"order\":\"little\",\"shape\":[2]},{\"__ndarray__\":\"NDseEyISREHRLnuKIhJEQQ==\",\"dtype\":\"float64\",\"order\":\"little\",\"shape\":[2]},{\"__ndarray__\":\"0S57iiISREGymX/8IhJEQQ==\",\"dtype\":\"float64\",\"order\":\"little\",\"shape\":[2]},{\"__ndarray__\":\"spl//CISREHoHENtIxJEQQ==\",\"dtype\":\"float64\",\"order\":\"little\",\"shape\":[2]},{\"__ndarray__\":\"6BxDbSMSREHSIJzRIxJEQQ==\",\"dtype\":\"float64\",\"order\":\"little\",\"shape\":[2]},{\"__ndarray__\":\"0iCc0SMSREFZtRMmJBJEQQ==\",\"dtype\":\"float64\",\"order\":\"little\",\"shape\":[2]},{\"__ndarray__\":\"WbUTJiQSREF//Q1rJBJEQQ==\",\"dtype\":\"float64\",\"order\":\"little\",\"shape\":[2]},{\"__ndarray__\":\"f/0NayQSREGSajmmJBJEQQ==\",\"dtype\":\"float64\",\"order\":\"little\",\"shape\":[2]},{\"__ndarray__\":\"kmo5piQSREElqv7bJBJEQQ==\",\"dtype\":\"float64\",\"order\":\"little\",\"shape\":[2]},{\"__ndarray__\":\"Jar+2yQSREHvGLn9JBJEQQ==\",\"dtype\":\"float64\",\"order\":\"little\",\"shape\":[2]},{\"__ndarray__\":\"7xi5/SQSREFMyaYPJRJEQQ==\",\"dtype\":\"float64\",\"order\":\"little\",\"shape\":[2]},{\"__ndarray__\":\"TMmmDyUSREEm0XEQJRJEQQ==\",\"dtype\":\"float64\",\"order\":\"little\",\"shape\":[2]},{\"__ndarray__\":\"JtFxECUSREESpssFJRJEQQ==\",\"dtype\":\"float64\",\"order\":\"little\",\"shape\":[2]},{\"__ndarray__\":\"EqbLBSUSREGmchjnJBJEQQ==\",\"dtype\":\"float64\",\"order\":\"little\",\"shape\":[2]},{\"__ndarray__\":\"pnIY5yQSREF/8IG4JBJEQQ==\",\"dtype\":\"float64\",\"order\":\"little\",\"shape\":[2]},{\"__ndarray__\":\"f/CBuCQSREGncsJ1JBJEQQ==\",\"dtype\":\"float64\",\"order\":\"little\",\"shape\":[2]},{\"__ndarray__\":\"p3LCdSQSREGv14kuJBJEQQ==\",\"dtype\":\"float64\",\"order\":\"little\",\"shape\":[2]},{\"__ndarray__\":\"r9eJLiQSREE0N0naIxJEQQ==\",\"dtype\":\"float64\",\"order\":\"little\",\"shape\":[2]},{\"__ndarray__\":\"NDdJ2iMSREGc42Z3IxJEQQ==\",\"dtype\":\"float64\",\"order\":\"little\",\"shape\":[2]},{\"__ndarray__\":\"nONmdyMSREFbofYMIxJEQQ==\",\"dtype\":\"float64\",\"order\":\"little\",\"shape\":[2]},{\"__ndarray__\":\"W6H2DCMSREHxsxaUIhJEQQ==\",\"dtype\":\"float64\",\"order\":\"little\",\"shape\":[2]},{\"__ndarray__\":\"8bMWlCISREEm++cQIhJEQQ==\",\"dtype\":\"float64\",\"order\":\"little\",\"shape\":[2]},{\"__ndarray__\":\"JvvnECISREFv4O+LIRJEQQ==\",\"dtype\":\"float64\",\"order\":\"little\",\"shape\":[2]},{\"__ndarray__\":\"b+DviyESREG8O1/7IBJEQQ==\",\"dtype\":\"float64\",\"order\":\"little\",\"shape\":[2]},{\"__ndarray__\":\"vDtf+yASREHpVnpxIBJEQQ==\",\"dtype\":\"float64\",\"order\":\"little\",\"shape\":[2]},{\"__ndarray__\":\"6VZ6cSASREGqfKb1HxJEQQ==\",\"dtype\":\"float64\",\"order\":\"little\",\"shape\":[2]},{\"__ndarray__\":\"qnym9R8SREH7qVuuHxJEQQ==\",\"dtype\":\"float64\",\"order\":\"little\",\"shape\":[2]},{\"__ndarray__\":\"+6lbrh8SREFRq3B0HxJEQQ==\",\"dtype\":\"float64\",\"order\":\"little\",\"shape\":[2]},{\"__ndarray__\":\"UatwdB8SREHOQxhaHxJEQQ==\",\"dtype\":\"float64\",\"order\":\"little\",\"shape\":[2]},{\"__ndarray__\":\"zkMYWh8SREFnCzxYHxJEQQ==\",\"dtype\":\"float64\",\"order\":\"little\",\"shape\":[2]},{\"__ndarray__\":\"Zws8WB8SREFoMr5aHxJEQQ==\",\"dtype\":\"float64\",\"order\":\"little\",\"shape\":[2]},{\"__ndarray__\":\"aDK+Wh8SREGvsJFrHxJEQQ==\",\"dtype\":\"float64\",\"order\":\"little\",\"shape\":[2]},{\"__ndarray__\":\"r7CRax8SREFa/PWLHxJEQQ==\",\"dtype\":\"float64\",\"order\":\"little\",\"shape\":[2]},{\"__ndarray__\":\"Wvz1ix8SREG/w/uqHxJEQQ==\",\"dtype\":\"float64\",\"order\":\"little\",\"shape\":[2]},{\"__ndarray__\":\"v8P7qh8SREEtdsHMHxJEQQ==\",\"dtype\":\"float64\",\"order\":\"little\",\"shape\":[2]},{\"__ndarray__\":\"LXbBzB8SREFCFpnjHxJEQQ==\",\"dtype\":\"float64\",\"order\":\"little\",\"shape\":[2]},{\"__ndarray__\":\"QhaZ4x8SREHbpYYGIBJEQQ==\",\"dtype\":\"float64\",\"order\":\"little\",\"shape\":[2]},{\"__ndarray__\":\"26WGBiASREH/29c6IBJEQQ==\",\"dtype\":\"float64\",\"order\":\"little\",\"shape\":[2]},{\"__ndarray__\":\"/9vXOiASREF7ljp8IBJEQQ==\",\"dtype\":\"float64\",\"order\":\"little\",\"shape\":[2]},{\"__ndarray__\":\"e5Y6fCASREEuhkDGIBJEQQ==\",\"dtype\":\"float64\",\"order\":\"little\",\"shape\":[2]},{\"__ndarray__\":\"LoZAxiASREHLxSQaIRJEQQ==\",\"dtype\":\"float64\",\"order\":\"little\",\"shape\":[2]},{\"__ndarray__\":\"y8UkGiESREGkZJZ2IRJEQQ==\",\"dtype\":\"float64\",\"order\":\"little\",\"shape\":[2]},{\"__ndarray__\":\"pGSWdiESREHwAIHVIRJEQQ==\",\"dtype\":\"float64\",\"order\":\"little\",\"shape\":[2]},{\"__ndarray__\":\"8ACB1SESREEVEDY6IhJEQQ==\",\"dtype\":\"float64\",\"order\":\"little\",\"shape\":[2]},{\"__ndarray__\":\"FRA2OiISREG75eqlIhJEQQ==\",\"dtype\":\"float64\",\"order\":\"little\",\"shape\":[2]},{\"__ndarray__\":\"u+XqpSISREGI26gLIxJEQQ==\",\"dtype\":\"float64\",\"order\":\"little\",\"shape\":[2]},{\"__ndarray__\":\"iNuoCyMSREFM5QFlIxJEQQ==\",\"dtype\":\"float64\",\"order\":\"little\",\"shape\":[2]},{\"__ndarray__\":\"TOUBZSMSREH0EZ6qIxJEQQ==\",\"dtype\":\"float64\",\"order\":\"little\",\"shape\":[2]},{\"__ndarray__\":\"9BGeqiMSREE0cvTTIxJEQQ==\",\"dtype\":\"float64\",\"order\":\"little\",\"shape\":[2]},{\"__ndarray__\":\"NHL00yMSREEMwi7sIxJEQQ==\",\"dtype\":\"float64\",\"order\":\"little\",\"shape\":[2]},{\"__ndarray__\":\"DMIu7CMSREHpAOTuIxJEQQ==\",\"dtype\":\"float64\",\"order\":\"little\",\"shape\":[2]},{\"__ndarray__\":\"6QDk7iMSREG0c4baIxJEQQ==\",\"dtype\":\"float64\",\"order\":\"little\",\"shape\":[2]},{\"__ndarray__\":\"tHOG2iMSREFSvFHNIxJEQQ==\",\"dtype\":\"float64\",\"order\":\"little\",\"shape\":[2]},{\"__ndarray__\":\"UrxRzSMSREGxPzHGIxJEQQ==\",\"dtype\":\"float64\",\"order\":\"little\",\"shape\":[2]},{\"__ndarray__\":\"sT8xxiMSREGzC8bOIxJEQQ==\",\"dtype\":\"float64\",\"order\":\"little\",\"shape\":[2]},{\"__ndarray__\":\"swvGziMSREG9nF7kIxJEQQ==\",\"dtype\":\"float64\",\"order\":\"little\",\"shape\":[2]},{\"__ndarray__\":\"vZxe5CMSREHMysoGJBJEQQ==\",\"dtype\":\"float64\",\"order\":\"little\",\"shape\":[2]},{\"__ndarray__\":\"zMrKBiQSREH2NjozJBJEQQ==\",\"dtype\":\"float64\",\"order\":\"little\",\"shape\":[2]},{\"__ndarray__\":\"9jY6MyQSREFryB1hJBJEQQ==\",\"dtype\":\"float64\",\"order\":\"little\",\"shape\":[2]},{\"__ndarray__\":\"a8gdYSQSREEnyZORJBJEQQ==\",\"dtype\":\"float64\",\"order\":\"little\",\"shape\":[2]},{\"__ndarray__\":\"J8mTkSQSREGqoRK4JBJEQQ==\",\"dtype\":\"float64\",\"order\":\"little\",\"shape\":[2]},{\"__ndarray__\":\"qqESuCQSREFE3DK8JBJEQQ==\",\"dtype\":\"float64\",\"order\":\"little\",\"shape\":[2]},{\"__ndarray__\":\"RNwyvCQSREGP1WmpJBJEQQ==\",\"dtype\":\"float64\",\"order\":\"little\",\"shape\":[2]},{\"__ndarray__\":\"j9VpqSQSREF2n/V9JBJEQQ==\",\"dtype\":\"float64\",\"order\":\"little\",\"shape\":[2]},{\"__ndarray__\":\"dp/1fSQSREFxg5VCJBJEQQ==\",\"dtype\":\"float64\",\"order\":\"little\",\"shape\":[2]},{\"__ndarray__\":\"cYOVQiQSREEMLYPxIxJEQQ==\",\"dtype\":\"float64\",\"order\":\"little\",\"shape\":[2]},{\"__ndarray__\":\"DC2D8SMSREGq8IOXIxJEQQ==\",\"dtype\":\"float64\",\"order\":\"little\",\"shape\":[2]},{\"__ndarray__\":\"qvCDlyMSREFNULQ0IxJEQQ==\",\"dtype\":\"float64\",\"order\":\"little\",\"shape\":[2]},{\"__ndarray__\":\"TVC0NCMSREFBakHaIhJEQQ==\",\"dtype\":\"float64\",\"order\":\"little\",\"shape\":[2]},{\"__ndarray__\":\"QWpB2iISREHyoyZ2IhJEQQ==\",\"dtype\":\"float64\",\"order\":\"little\",\"shape\":[2]},{\"__ndarray__\":\"8qMmdiISREHCJfMbIhJEQQ==\",\"dtype\":\"float64\",\"order\":\"little\",\"shape\":[2]},{\"__ndarray__\":\"wiXzGyISREH00njfIRJEQQ==\",\"dtype\":\"float64\",\"order\":\"little\",\"shape\":[2]},{\"__ndarray__\":\"9NJ43yESREEy+Ai0IRJEQQ==\",\"dtype\":\"float64\",\"order\":\"little\",\"shape\":[2]}]},\"selected\":{\"id\":\"1831\"},\"selection_policy\":{\"id\":\"1844\"}},\"id\":\"1830\",\"type\":\"ColumnDataSource\"},{\"attributes\":{\"dimension\":\"lat\"},\"id\":\"1801\",\"type\":\"MercatorTicker\"},{\"attributes\":{\"axis\":{\"id\":\"1780\"},\"coordinates\":null,\"dimension\":1,\"grid_line_color\":null,\"group\":null,\"ticker\":null},\"id\":\"1783\",\"type\":\"Grid\"},{\"attributes\":{\"dimension\":\"lon\"},\"id\":\"1799\",\"type\":\"MercatorTicker\"},{\"attributes\":{\"zoom_on_axis\":false},\"id\":\"1786\",\"type\":\"WheelZoomTool\"},{\"attributes\":{\"end\":13375625.487674635,\"min_interval\":5,\"reset_end\":13375625.487674635,\"reset_start\":13375589.879898803,\"start\":13375589.879898803,\"tags\":[[[\"Longitude\",\"Longitude\",null]]]},\"id\":\"1760\",\"type\":\"Range1d\"},{\"attributes\":{},\"id\":\"1784\",\"type\":\"SaveTool\"},{\"attributes\":{\"coordinates\":null,\"group\":null,\"text\":\"TrajectoryCollection with 1 trajectories\",\"text_color\":\"black\",\"text_font_size\":\"12pt\"},\"id\":\"1768\",\"type\":\"Title\"},{\"attributes\":{},\"id\":\"1774\",\"type\":\"LinearScale\"},{\"attributes\":{\"match_aspect\":true,\"overlay\":{\"id\":\"1789\"}},\"id\":\"1787\",\"type\":\"BoxZoomTool\"},{\"attributes\":{\"line_alpha\":{\"value\":0.1},\"line_color\":{\"value\":\"#30a2da\"},\"line_width\":{\"value\":3},\"xs\":{\"field\":\"xs\"},\"ys\":{\"field\":\"ys\"}},\"id\":\"1834\",\"type\":\"MultiLine\"},{\"attributes\":{\"callback\":null,\"renderers\":[{\"id\":\"1836\"}],\"tags\":[\"hv_created\"],\"tooltips\":null},\"id\":\"1764\",\"type\":\"HoverTool\"},{\"attributes\":{},\"id\":\"1788\",\"type\":\"ResetTool\"},{\"attributes\":{\"children\":[{\"id\":\"1755\"},{\"id\":\"1767\"},{\"id\":\"1847\"}],\"margin\":[0,0,0,0],\"name\":\"Row22796\",\"tags\":[\"embedded\"]},\"id\":\"1754\",\"type\":\"Row\"},{\"attributes\":{\"bottom_units\":\"screen\",\"coordinates\":null,\"fill_alpha\":0.5,\"fill_color\":\"lightgrey\",\"group\":null,\"left_units\":\"screen\",\"level\":\"overlay\",\"line_alpha\":1.0,\"line_color\":\"black\",\"line_dash\":[4,4],\"line_width\":2,\"right_units\":\"screen\",\"syncable\":false,\"top_units\":\"screen\"},\"id\":\"1789\",\"type\":\"BoxAnnotation\"},{\"attributes\":{},\"id\":\"1844\",\"type\":\"UnionRenderers\"},{\"attributes\":{},\"id\":\"1831\",\"type\":\"Selection\"},{\"attributes\":{\"end\":2630732.9356630035,\"min_interval\":5,\"reset_end\":2630732.9356630035,\"reset_start\":2630712.5883625285,\"start\":2630712.5883625285,\"tags\":[[[\"Latitude\",\"Latitude\",null]]]},\"id\":\"1761\",\"type\":\"Range1d\"},{\"attributes\":{\"attribution\":\"&copy; <a href=\\\"http://downloads.esri.com/ArcGISOnline/docs/tou_summary.pdf\\\">Esri</a>, Earthstar Geographics\",\"url\":\"https://server.arcgisonline.com/ArcGIS/rest/services/World_Imagery/MapServer/tile/{Z}/{Y}/{X}.jpg\"},\"id\":\"1825\",\"type\":\"WMTSTileSource\"},{\"attributes\":{\"source\":{\"id\":\"1830\"}},\"id\":\"1837\",\"type\":\"CDSView\"},{\"attributes\":{\"margin\":[5,5,5,5],\"name\":\"HSpacer22800\",\"sizing_mode\":\"stretch_width\"},\"id\":\"1755\",\"type\":\"Spacer\"},{\"attributes\":{\"axis\":{\"id\":\"1776\"},\"coordinates\":null,\"grid_line_color\":null,\"group\":null,\"ticker\":null},\"id\":\"1779\",\"type\":\"Grid\"},{\"attributes\":{\"axis_label\":\"x\",\"coordinates\":null,\"formatter\":{\"id\":\"1800\"},\"group\":null,\"major_label_policy\":{\"id\":\"1805\"},\"ticker\":{\"id\":\"1799\"}},\"id\":\"1776\",\"type\":\"LinearAxis\"}],\"root_ids\":[\"1754\"]},\"title\":\"Bokeh Application\",\"version\":\"2.4.3\"}};\n",
       "    var render_items = [{\"docid\":\"dbfa1818-f531-4123-acf4-2dc710ce13b8\",\"root_ids\":[\"1754\"],\"roots\":{\"1754\":\"3dad5c51-6ecf-4bef-b31b-a70c8a3394c7\"}}];\n",
       "    root.Bokeh.embed.embed_items_notebook(docs_json, render_items);\n",
       "  }\n",
       "  if (root.Bokeh !== undefined && root.Bokeh.Panel !== undefined) {\n",
       "    embed_document(root);\n",
       "  } else {\n",
       "    var attempts = 0;\n",
       "    var timer = setInterval(function(root) {\n",
       "      if (root.Bokeh !== undefined && root.Bokeh.Panel !== undefined) {\n",
       "        clearInterval(timer);\n",
       "        embed_document(root);\n",
       "      } else if (document.readyState == \"complete\") {\n",
       "        attempts++;\n",
       "        if (attempts > 200) {\n",
       "          clearInterval(timer);\n",
       "          console.log(\"Bokeh: ERROR: Unable to run BokehJS code because BokehJS library is missing\");\n",
       "        }\n",
       "      }\n",
       "    }, 25, root)\n",
       "  }\n",
       "})(window);</script>"
      ],
      "text/plain": [
       ":Overlay\n",
       "   .Tiles.I :Tiles   [x,y]\n",
       "   .Path.I  :Path   [Longitude,Latitude]"
      ]
     },
     "execution_count": 17,
     "metadata": {
      "application/vnd.holoviews_exec.v0+json": {
       "id": "1754"
      }
     },
     "output_type": "execute_result"
    }
   ],
   "source": [
    "%%time \n",
    "df = pd.read_csv('data/real_bag_0312_1238_pd_2.csv', delimiter=',')\n",
    "traj_collection = mpd.TrajectoryCollection(df, 'trajectory_id', t='t', x='Y', y='X')\n",
    "traj_collection.hvplot(title=str(traj_collection), line_width=3, **hvplot_defaults)"
   ]
  },
  {
   "cell_type": "markdown",
   "id": "eeeadeb1-0f5c-4037-98e0-4f61fda45573",
   "metadata": {},
   "source": [
    "## Reading MovingFeatures JSONs"
   ]
  },
  {
   "cell_type": "code",
   "execution_count": null,
   "id": "f22bda81-b411-4647-aea6-9da5756a7bb1",
   "metadata": {},
   "outputs": [],
   "source": [
    "%%time \n",
    "file_name = 'data/movingfeatures.json'\n",
    "traj = mpd.read_mf_json(file_name)\n",
    "traj"
   ]
  },
  {
   "cell_type": "code",
   "execution_count": null,
   "id": "845d54a5-6889-4e49-89fa-1481205fd1f3",
   "metadata": {},
   "outputs": [],
   "source": [
    "traj.plot()"
   ]
  },
  {
   "cell_type": "code",
   "execution_count": null,
   "id": "4842452d-7343-4f75-b1fb-a6741bf7b6d4",
   "metadata": {},
   "outputs": [],
   "source": [
    "traj.hvplot(title='Wind measure along trajectory', c='wind', line_width=5, **hvplot_defaults)"
   ]
  },
  {
   "cell_type": "markdown",
   "id": "peaceful-nomination",
   "metadata": {},
   "source": [
    "## Writing\n",
    "\n",
    "### as points"
   ]
  },
  {
   "cell_type": "code",
   "execution_count": null,
   "id": "lesbian-picking",
   "metadata": {},
   "outputs": [],
   "source": [
    "point_gdf = traj_collection.to_point_gdf()\n",
    "point_gdf.head()"
   ]
  },
  {
   "cell_type": "code",
   "execution_count": null,
   "id": "subtle-whole",
   "metadata": {},
   "outputs": [],
   "source": [
    "point_gdf.to_file(\"temp.gpkg\", layer='points', driver=\"GPKG\")\n",
    "read_file('temp.gpkg', layer='points').plot()"
   ]
  },
  {
   "cell_type": "markdown",
   "id": "animated-worcester",
   "metadata": {},
   "source": [
    "### as lines"
   ]
  },
  {
   "cell_type": "code",
   "execution_count": null,
   "id": "skilled-christianity",
   "metadata": {},
   "outputs": [],
   "source": [
    "line_gdf = traj_collection.to_line_gdf()\n",
    "line_gdf.head()"
   ]
  },
  {
   "cell_type": "code",
   "execution_count": null,
   "id": "sharing-birthday",
   "metadata": {},
   "outputs": [],
   "source": [
    "line_gdf.to_file(\"temp.gpkg\", layer='lines', driver=\"GPKG\")\n",
    "read_file('temp.gpkg', layer='lines').plot()"
   ]
  },
  {
   "cell_type": "markdown",
   "id": "french-director",
   "metadata": {},
   "source": [
    "### as trajectories"
   ]
  },
  {
   "cell_type": "code",
   "execution_count": null,
   "id": "wrong-bulgarian",
   "metadata": {},
   "outputs": [],
   "source": [
    "traj_gdf = traj_collection.to_traj_gdf(wkt=True)\n",
    "traj_gdf"
   ]
  },
  {
   "cell_type": "code",
   "execution_count": null,
   "id": "connected-trunk",
   "metadata": {},
   "outputs": [],
   "source": [
    "traj_gdf.to_file(\"temp.gpkg\", layer='trajectories', driver=\"GPKG\")\n",
    "read_file('temp.gpkg', layer='trajectories').plot()"
   ]
  },
  {
   "cell_type": "markdown",
   "id": "46dc3ec2",
   "metadata": {},
   "source": [
    "## Error messages while reading\n",
    "\n",
    "The following errors are expected:"
   ]
  },
  {
   "cell_type": "markdown",
   "id": "8ad4c056",
   "metadata": {},
   "source": [
    "### Missing datetime info"
   ]
  },
  {
   "cell_type": "code",
   "execution_count": null,
   "id": "86f273e1",
   "metadata": {},
   "outputs": [],
   "source": [
    "gdf = read_file('data/demodata_geolife.gpkg')\n",
    "traj_collection = mpd.TrajectoryCollection(gdf, 'trajectory_id')"
   ]
  },
  {
   "cell_type": "markdown",
   "id": "0d5a9867",
   "metadata": {},
   "source": [
    "### Missing geometry info"
   ]
  },
  {
   "cell_type": "code",
   "execution_count": null,
   "id": "c60cf633",
   "metadata": {},
   "outputs": [],
   "source": [
    "df = pd.read_csv('data/demodata_geolife.csv', delimiter=';')\n",
    "traj_collection = mpd.TrajectoryCollection(df, 'trajectory_id', t='t')"
   ]
  },
  {
   "cell_type": "markdown",
   "id": "6b343aa7",
   "metadata": {},
   "source": [
    "## Continue exploring MovingPandas\n",
    "\n",
    "1. [Getting started](1-getting-started.ipynb)\n",
    "1. [Handling trajectory data files (reading & writing)](2-reading-data-from-files.ipynb)\n",
    "1. [TrajectoryCollection aggregation (flow maps)](3-generalization-and-aggregation.ipynb)\n",
    "1. [Stop detection](4-stop-detection.ipynb)\n",
    "1. [Working with local coordinates](5-local-coordinates.ipynb)"
   ]
  }
 ],
 "metadata": {
  "kernelspec": {
   "display_name": "Python 3 (ipykernel)",
   "language": "python",
   "name": "python3"
  },
  "language_info": {
   "codemirror_mode": {
    "name": "ipython",
    "version": 3
   },
   "file_extension": ".py",
   "mimetype": "text/x-python",
   "name": "python",
   "nbconvert_exporter": "python",
   "pygments_lexer": "ipython3",
   "version": "3.9.13"
  }
 },
 "nbformat": 4,
 "nbformat_minor": 5
}
